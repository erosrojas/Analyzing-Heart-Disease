{
 "cells": [
  {
   "cell_type": "code",
   "execution_count": 1,
   "id": "d10813d1-a44a-466d-8559-7b354f684a7f",
   "metadata": {
    "tags": []
   },
   "outputs": [
    {
     "name": "stderr",
     "output_type": "stream",
     "text": [
      "── \u001b[1mAttaching packages\u001b[22m ─────────────────────────────────────── tidyverse 1.3.2 ──\n",
      "\u001b[32m✔\u001b[39m \u001b[34mggplot2\u001b[39m 3.3.6      \u001b[32m✔\u001b[39m \u001b[34mpurrr  \u001b[39m 0.3.5 \n",
      "\u001b[32m✔\u001b[39m \u001b[34mtibble \u001b[39m 3.1.8      \u001b[32m✔\u001b[39m \u001b[34mdplyr  \u001b[39m 1.0.10\n",
      "\u001b[32m✔\u001b[39m \u001b[34mtidyr  \u001b[39m 1.2.1      \u001b[32m✔\u001b[39m \u001b[34mstringr\u001b[39m 1.4.1 \n",
      "\u001b[32m✔\u001b[39m \u001b[34mreadr  \u001b[39m 2.1.3      \u001b[32m✔\u001b[39m \u001b[34mforcats\u001b[39m 0.5.2 \n",
      "── \u001b[1mConflicts\u001b[22m ────────────────────────────────────────── tidyverse_conflicts() ──\n",
      "\u001b[31m✖\u001b[39m \u001b[34mdplyr\u001b[39m::\u001b[32mfilter()\u001b[39m masks \u001b[34mstats\u001b[39m::filter()\n",
      "\u001b[31m✖\u001b[39m \u001b[34mdplyr\u001b[39m::\u001b[32mlag()\u001b[39m    masks \u001b[34mstats\u001b[39m::lag()\n"
     ]
    }
   ],
   "source": [
    "library(tidyverse)"
   ]
  },
  {
   "cell_type": "markdown",
   "id": "1d1a73b6-e23c-429f-a0be-a44aa0066439",
   "metadata": {},
   "source": [
    "Loading in the data (replacing all \"?\" with NA since the predetermined NA value was \"?\", and NA is easier to deal with)"
   ]
  },
  {
   "cell_type": "code",
   "execution_count": 183,
   "id": "5a0f9516-c92f-4767-942a-e9ced49f8063",
   "metadata": {},
   "outputs": [],
   "source": [
    "# Setting names of columns\n",
    "names <- c(\"age\", \"sex\", \"cp\", \"trestbps\", \"chol\", \"fbs\", \"restecg\", \"thalach\", \"exang\", \"oldpeak\", \"slope\", \"ca\", \"thal\", \"num\", show_col_types = FALSE)+\n",
    "\n",
    "# Reading all of the data from https://archive.ics.uci.edu/ml/datasets/heart+Disease\n",
    "cleveland_data <- read_csv(\"https://archive.ics.uci.edu/ml/machine-learning-databases/heart-disease/processed.cleveland.data\", col_names = names, na = \"?\", show_col_types = FALSE)\n",
    "switzerland_data <- read_csv(\"https://archive.ics.uci.edu/ml/machine-learning-databases/heart-disease/processed.switzerland.data\", col_names = names, na = \"?\", show_col_types = FALSE)\n",
    "hungary_data <- read_csv(\"https://archive.ics.uci.edu/ml/machine-learning-databases/heart-disease/processed.hungarian.data\", col_names = names, na = \"?\", show_col_types = FALSE)\n",
    "va_data <- read_csv(\"https://archive.ics.uci.edu/ml/machine-learning-databases/heart-disease/processed.va.data\", col_names = names, na = \"?\", show_col_types = FALSE)"
   ]
  },
  {
   "cell_type": "markdown",
   "id": "6c8b25f3-2c14-4cea-a450-1100a21812a7",
   "metadata": {},
   "source": [
    "Counts of NA values in each dataset, and within every column. This allows us to see which columns we should remove early on, and which would likely cause issues in terms of missing data."
   ]
  },
  {
   "cell_type": "code",
   "execution_count": 69,
   "id": "a8086b97-a83f-4579-88b2-9f07539346c4",
   "metadata": {},
   "outputs": [
    {
     "data": {
      "text/html": [
       "<table class=\"dataframe\">\n",
       "<caption>A data.frame: 4 × 14</caption>\n",
       "<thead>\n",
       "\t<tr><th></th><th scope=col>age</th><th scope=col>sex</th><th scope=col>cp</th><th scope=col>trestbps</th><th scope=col>chol</th><th scope=col>fbs</th><th scope=col>restecg</th><th scope=col>thalach</th><th scope=col>exang</th><th scope=col>oldpeak</th><th scope=col>slope</th><th scope=col>ca</th><th scope=col>thal</th><th scope=col>num</th></tr>\n",
       "\t<tr><th></th><th scope=col>&lt;dbl&gt;</th><th scope=col>&lt;dbl&gt;</th><th scope=col>&lt;dbl&gt;</th><th scope=col>&lt;dbl&gt;</th><th scope=col>&lt;dbl&gt;</th><th scope=col>&lt;dbl&gt;</th><th scope=col>&lt;dbl&gt;</th><th scope=col>&lt;dbl&gt;</th><th scope=col>&lt;dbl&gt;</th><th scope=col>&lt;dbl&gt;</th><th scope=col>&lt;dbl&gt;</th><th scope=col>&lt;dbl&gt;</th><th scope=col>&lt;dbl&gt;</th><th scope=col>&lt;dbl&gt;</th></tr>\n",
       "</thead>\n",
       "<tbody>\n",
       "\t<tr><th scope=row>cleveland_data</th><td>0</td><td>0</td><td>0</td><td> 0</td><td> 0</td><td> 0</td><td>0</td><td> 0</td><td> 0</td><td> 0</td><td>  0</td><td>  4</td><td>  2</td><td>0</td></tr>\n",
       "\t<tr><th scope=row>switzerland_data</th><td>0</td><td>0</td><td>0</td><td> 2</td><td> 0</td><td>75</td><td>1</td><td> 1</td><td> 1</td><td> 6</td><td> 17</td><td>118</td><td> 52</td><td>0</td></tr>\n",
       "\t<tr><th scope=row>hungary_data</th><td>0</td><td>0</td><td>0</td><td> 1</td><td>23</td><td> 8</td><td>1</td><td> 1</td><td> 1</td><td> 0</td><td>190</td><td>291</td><td>266</td><td>0</td></tr>\n",
       "\t<tr><th scope=row>va_data</th><td>0</td><td>0</td><td>0</td><td>56</td><td> 7</td><td> 7</td><td>0</td><td>53</td><td>53</td><td>56</td><td>102</td><td>198</td><td>166</td><td>0</td></tr>\n",
       "</tbody>\n",
       "</table>\n"
      ],
      "text/latex": [
       "A data.frame: 4 × 14\n",
       "\\begin{tabular}{r|llllllllllllll}\n",
       "  & age & sex & cp & trestbps & chol & fbs & restecg & thalach & exang & oldpeak & slope & ca & thal & num\\\\\n",
       "  & <dbl> & <dbl> & <dbl> & <dbl> & <dbl> & <dbl> & <dbl> & <dbl> & <dbl> & <dbl> & <dbl> & <dbl> & <dbl> & <dbl>\\\\\n",
       "\\hline\n",
       "\tcleveland\\_data & 0 & 0 & 0 &  0 &  0 &  0 & 0 &  0 &  0 &  0 &   0 &   4 &   2 & 0\\\\\n",
       "\tswitzerland\\_data & 0 & 0 & 0 &  2 &  0 & 75 & 1 &  1 &  1 &  6 &  17 & 118 &  52 & 0\\\\\n",
       "\thungary\\_data & 0 & 0 & 0 &  1 & 23 &  8 & 1 &  1 &  1 &  0 & 190 & 291 & 266 & 0\\\\\n",
       "\tva\\_data & 0 & 0 & 0 & 56 &  7 &  7 & 0 & 53 & 53 & 56 & 102 & 198 & 166 & 0\\\\\n",
       "\\end{tabular}\n"
      ],
      "text/markdown": [
       "\n",
       "A data.frame: 4 × 14\n",
       "\n",
       "| <!--/--> | age &lt;dbl&gt; | sex &lt;dbl&gt; | cp &lt;dbl&gt; | trestbps &lt;dbl&gt; | chol &lt;dbl&gt; | fbs &lt;dbl&gt; | restecg &lt;dbl&gt; | thalach &lt;dbl&gt; | exang &lt;dbl&gt; | oldpeak &lt;dbl&gt; | slope &lt;dbl&gt; | ca &lt;dbl&gt; | thal &lt;dbl&gt; | num &lt;dbl&gt; |\n",
       "|---|---|---|---|---|---|---|---|---|---|---|---|---|---|---|\n",
       "| cleveland_data | 0 | 0 | 0 |  0 |  0 |  0 | 0 |  0 |  0 |  0 |   0 |   4 |   2 | 0 |\n",
       "| switzerland_data | 0 | 0 | 0 |  2 |  0 | 75 | 1 |  1 |  1 |  6 |  17 | 118 |  52 | 0 |\n",
       "| hungary_data | 0 | 0 | 0 |  1 | 23 |  8 | 1 |  1 |  1 |  0 | 190 | 291 | 266 | 0 |\n",
       "| va_data | 0 | 0 | 0 | 56 |  7 |  7 | 0 | 53 | 53 | 56 | 102 | 198 | 166 | 0 |\n",
       "\n"
      ],
      "text/plain": [
       "                 age sex cp trestbps chol fbs restecg thalach exang oldpeak\n",
       "cleveland_data   0   0   0   0        0    0  0        0       0     0     \n",
       "switzerland_data 0   0   0   2        0   75  1        1       1     6     \n",
       "hungary_data     0   0   0   1       23    8  1        1       1     0     \n",
       "va_data          0   0   0  56        7    7  0       53      53    56     \n",
       "                 slope ca  thal num\n",
       "cleveland_data     0     4   2  0  \n",
       "switzerland_data  17   118  52  0  \n",
       "hungary_data     190   291 266  0  \n",
       "va_data          102   198 166  0  "
      ]
     },
     "metadata": {},
     "output_type": "display_data"
    }
   ],
   "source": [
    "NA_counts <- as.data.frame(cleveland_data[FALSE, ])\n",
    "x <- substitute(list(cleveland_data, switzerland_data, hungary_data, va_data))\n",
    "\n",
    "for (i in as.list(x)[-1]) {\n",
    "    NA_counts[nrow(NA_counts) + 1,] <- map_df(get(i), ~sum(is.na(.x)))\n",
    "    rownames(NA_counts)[nrow(NA_counts)] <- deparse(i)\n",
    "}\n",
    "NA_counts"
   ]
  },
  {
   "cell_type": "markdown",
   "id": "4f2e0ac5-ea33-4ae8-96ec-089432562707",
   "metadata": {},
   "source": [
    "It looks like the columns `slope`, `ca`, and `thal` all have a large quantity of NA values within three of the four datasets that we are using. For this reason, we chose to drop these three columns since performing imputation with such a small quantity of usable data is quite inaccurate, and also because if we choose to omit NA values then that will delete the row entirely. Additionally, we are choosing to drop `fbs`, `exang`, and `oldpeak` for a similar reason; if we choose to omit all NA values within each row, then keeping these columns will cause us to lose ~150 rows of data (since all rows with NA will be deleted). As such, removing these columns will allow us to keep more observations for our analysis, as well as simplify our model later on by exchanging less features for more data."
   ]
  },
  {
   "cell_type": "code",
   "execution_count": 192,
   "id": "fcba14f2-cecf-48f8-9a6f-eded6a76a9a2",
   "metadata": {},
   "outputs": [
    {
     "data": {
      "text/html": [
       "832"
      ],
      "text/latex": [
       "832"
      ],
      "text/markdown": [
       "832"
      ],
      "text/plain": [
       "[1] 832"
      ]
     },
     "metadata": {},
     "output_type": "display_data"
    },
    {
     "data": {
      "text/html": [
       "<table class=\"dataframe\">\n",
       "<caption>A tibble: 5 × 3</caption>\n",
       "<thead>\n",
       "\t<tr><th scope=col>num</th><th scope=col>counts</th><th scope=col>proportions</th></tr>\n",
       "\t<tr><th scope=col>&lt;dbl&gt;</th><th scope=col>&lt;int&gt;</th><th scope=col>&lt;dbl&gt;</th></tr>\n",
       "</thead>\n",
       "<tbody>\n",
       "\t<tr><td>0</td><td>373</td><td>0.44831731</td></tr>\n",
       "\t<tr><td>1</td><td>244</td><td>0.29326923</td></tr>\n",
       "\t<tr><td>2</td><td>100</td><td>0.12019231</td></tr>\n",
       "\t<tr><td>3</td><td> 91</td><td>0.10937500</td></tr>\n",
       "\t<tr><td>4</td><td> 24</td><td>0.02884615</td></tr>\n",
       "</tbody>\n",
       "</table>\n"
      ],
      "text/latex": [
       "A tibble: 5 × 3\n",
       "\\begin{tabular}{lll}\n",
       " num & counts & proportions\\\\\n",
       " <dbl> & <int> & <dbl>\\\\\n",
       "\\hline\n",
       "\t 0 & 373 & 0.44831731\\\\\n",
       "\t 1 & 244 & 0.29326923\\\\\n",
       "\t 2 & 100 & 0.12019231\\\\\n",
       "\t 3 &  91 & 0.10937500\\\\\n",
       "\t 4 &  24 & 0.02884615\\\\\n",
       "\\end{tabular}\n"
      ],
      "text/markdown": [
       "\n",
       "A tibble: 5 × 3\n",
       "\n",
       "| num &lt;dbl&gt; | counts &lt;int&gt; | proportions &lt;dbl&gt; |\n",
       "|---|---|---|\n",
       "| 0 | 373 | 0.44831731 |\n",
       "| 1 | 244 | 0.29326923 |\n",
       "| 2 | 100 | 0.12019231 |\n",
       "| 3 |  91 | 0.10937500 |\n",
       "| 4 |  24 | 0.02884615 |\n",
       "\n"
      ],
      "text/plain": [
       "  num counts proportions\n",
       "1 0   373    0.44831731 \n",
       "2 1   244    0.29326923 \n",
       "3 2   100    0.12019231 \n",
       "4 3    91    0.10937500 \n",
       "5 4    24    0.02884615 "
      ]
     },
     "metadata": {},
     "output_type": "display_data"
    }
   ],
   "source": [
    "data_tidy_multi <- rbind(cleveland_data, switzerland_data, hungary_data, va_data) %>%\n",
    "    select(-slope, -ca, -thal, -fbs, -exang, -oldpeak) %>%\n",
    "    na.omit()\n",
    "\n",
    "num_counts_multi <- data_tidy_multi %>%\n",
    "    group_by(num) %>%\n",
    "    summarize(counts = n(), proportions = counts/nrow(data_tidy))\n",
    "num_counts_multi"
   ]
  },
  {
   "cell_type": "markdown",
   "id": "0294ea60-ede0-4118-ac18-b94b6851f6b5",
   "metadata": {},
   "source": [
    "We can see that there is quite a large class imbalance within the dataset, particularly in the cases of more severe heart disease. Since this analysis is mainly focused on finding the impacts of a patient on whether they do or do not have heart disease, we are largely not interested in the severity of their condition, but instead on whether or not heart disease is present at all. Therefore, we can binarize the output variable by grouping categories 1-4 into a single case (has heart disease)."
   ]
  },
  {
   "cell_type": "code",
   "execution_count": 189,
   "id": "803a390c-7cf0-450e-84dd-90910e1d5ee1",
   "metadata": {},
   "outputs": [
    {
     "data": {
      "text/html": [
       "<table class=\"dataframe\">\n",
       "<caption>A tibble: 2 × 3</caption>\n",
       "<thead>\n",
       "\t<tr><th scope=col>num</th><th scope=col>counts</th><th scope=col>proportions</th></tr>\n",
       "\t<tr><th scope=col>&lt;dbl&gt;</th><th scope=col>&lt;int&gt;</th><th scope=col>&lt;dbl&gt;</th></tr>\n",
       "</thead>\n",
       "<tbody>\n",
       "\t<tr><td>0</td><td>373</td><td>0.4483173</td></tr>\n",
       "\t<tr><td>1</td><td>459</td><td>0.5516827</td></tr>\n",
       "</tbody>\n",
       "</table>\n"
      ],
      "text/latex": [
       "A tibble: 2 × 3\n",
       "\\begin{tabular}{lll}\n",
       " num & counts & proportions\\\\\n",
       " <dbl> & <int> & <dbl>\\\\\n",
       "\\hline\n",
       "\t 0 & 373 & 0.4483173\\\\\n",
       "\t 1 & 459 & 0.5516827\\\\\n",
       "\\end{tabular}\n"
      ],
      "text/markdown": [
       "\n",
       "A tibble: 2 × 3\n",
       "\n",
       "| num &lt;dbl&gt; | counts &lt;int&gt; | proportions &lt;dbl&gt; |\n",
       "|---|---|---|\n",
       "| 0 | 373 | 0.4483173 |\n",
       "| 1 | 459 | 0.5516827 |\n",
       "\n"
      ],
      "text/plain": [
       "  num counts proportions\n",
       "1 0   373    0.4483173  \n",
       "2 1   459    0.5516827  "
      ]
     },
     "metadata": {},
     "output_type": "display_data"
    }
   ],
   "source": [
    "data_tidy <- data_tidy_multi %>%\n",
    "    mutate(num = ifelse(num == 0, 0, 1))\n",
    "\n",
    "num_counts <- data_tidy %>%\n",
    "    group_by(num) %>%\n",
    "    summarize(counts = n(), proportions = counts/nrow(data_tidy))\n",
    "\n",
    "num_counts"
   ]
  },
  {
   "cell_type": "markdown",
   "id": "a0ee319b-8f83-4336-96d2-cae8b12609fa",
   "metadata": {},
   "source": [
    "Evidently, the data is now much more balanced. Now that we have fully tidied our data (`data_tidy`), we can begin the variable selection portion of the analysis."
   ]
  },
  {
   "cell_type": "code",
   "execution_count": 195,
   "id": "a627a6b1-36bf-483f-ac88-dc21c68218a6",
   "metadata": {},
   "outputs": [
    {
     "data": {
      "text/html": [
       "<table class=\"dataframe\">\n",
       "<caption>A tibble: 6 × 8</caption>\n",
       "<thead>\n",
       "\t<tr><th scope=col>age</th><th scope=col>sex</th><th scope=col>cp</th><th scope=col>trestbps</th><th scope=col>chol</th><th scope=col>restecg</th><th scope=col>thalach</th><th scope=col>num</th></tr>\n",
       "\t<tr><th scope=col>&lt;dbl&gt;</th><th scope=col>&lt;dbl&gt;</th><th scope=col>&lt;dbl&gt;</th><th scope=col>&lt;dbl&gt;</th><th scope=col>&lt;dbl&gt;</th><th scope=col>&lt;dbl&gt;</th><th scope=col>&lt;dbl&gt;</th><th scope=col>&lt;dbl&gt;</th></tr>\n",
       "</thead>\n",
       "<tbody>\n",
       "\t<tr><td>63</td><td>1</td><td>1</td><td>145</td><td>233</td><td>2</td><td>150</td><td>0</td></tr>\n",
       "\t<tr><td>67</td><td>1</td><td>4</td><td>160</td><td>286</td><td>2</td><td>108</td><td>1</td></tr>\n",
       "\t<tr><td>67</td><td>1</td><td>4</td><td>120</td><td>229</td><td>2</td><td>129</td><td>1</td></tr>\n",
       "\t<tr><td>37</td><td>1</td><td>3</td><td>130</td><td>250</td><td>0</td><td>187</td><td>0</td></tr>\n",
       "\t<tr><td>41</td><td>0</td><td>2</td><td>130</td><td>204</td><td>2</td><td>172</td><td>0</td></tr>\n",
       "\t<tr><td>56</td><td>1</td><td>2</td><td>120</td><td>236</td><td>0</td><td>178</td><td>0</td></tr>\n",
       "</tbody>\n",
       "</table>\n"
      ],
      "text/latex": [
       "A tibble: 6 × 8\n",
       "\\begin{tabular}{llllllll}\n",
       " age & sex & cp & trestbps & chol & restecg & thalach & num\\\\\n",
       " <dbl> & <dbl> & <dbl> & <dbl> & <dbl> & <dbl> & <dbl> & <dbl>\\\\\n",
       "\\hline\n",
       "\t 63 & 1 & 1 & 145 & 233 & 2 & 150 & 0\\\\\n",
       "\t 67 & 1 & 4 & 160 & 286 & 2 & 108 & 1\\\\\n",
       "\t 67 & 1 & 4 & 120 & 229 & 2 & 129 & 1\\\\\n",
       "\t 37 & 1 & 3 & 130 & 250 & 0 & 187 & 0\\\\\n",
       "\t 41 & 0 & 2 & 130 & 204 & 2 & 172 & 0\\\\\n",
       "\t 56 & 1 & 2 & 120 & 236 & 0 & 178 & 0\\\\\n",
       "\\end{tabular}\n"
      ],
      "text/markdown": [
       "\n",
       "A tibble: 6 × 8\n",
       "\n",
       "| age &lt;dbl&gt; | sex &lt;dbl&gt; | cp &lt;dbl&gt; | trestbps &lt;dbl&gt; | chol &lt;dbl&gt; | restecg &lt;dbl&gt; | thalach &lt;dbl&gt; | num &lt;dbl&gt; |\n",
       "|---|---|---|---|---|---|---|---|\n",
       "| 63 | 1 | 1 | 145 | 233 | 2 | 150 | 0 |\n",
       "| 67 | 1 | 4 | 160 | 286 | 2 | 108 | 1 |\n",
       "| 67 | 1 | 4 | 120 | 229 | 2 | 129 | 1 |\n",
       "| 37 | 1 | 3 | 130 | 250 | 0 | 187 | 0 |\n",
       "| 41 | 0 | 2 | 130 | 204 | 2 | 172 | 0 |\n",
       "| 56 | 1 | 2 | 120 | 236 | 0 | 178 | 0 |\n",
       "\n"
      ],
      "text/plain": [
       "  age sex cp trestbps chol restecg thalach num\n",
       "1 63  1   1  145      233  2       150     0  \n",
       "2 67  1   4  160      286  2       108     1  \n",
       "3 67  1   4  120      229  2       129     1  \n",
       "4 37  1   3  130      250  0       187     0  \n",
       "5 41  0   2  130      204  2       172     0  \n",
       "6 56  1   2  120      236  0       178     0  "
      ]
     },
     "metadata": {},
     "output_type": "display_data"
    }
   ],
   "source": [
    "head(data_tidy)"
   ]
  },
  {
   "cell_type": "code",
   "execution_count": null,
   "id": "dc4e52c2-1d0d-46ed-a13c-6c92708b9855",
   "metadata": {},
   "outputs": [],
   "source": []
  }
 ],
 "metadata": {
  "kernelspec": {
   "display_name": "R",
   "language": "R",
   "name": "ir"
  },
  "language_info": {
   "codemirror_mode": "r",
   "file_extension": ".r",
   "mimetype": "text/x-r-source",
   "name": "R",
   "pygments_lexer": "r",
   "version": "4.1.3"
  }
 },
 "nbformat": 4,
 "nbformat_minor": 5
}
